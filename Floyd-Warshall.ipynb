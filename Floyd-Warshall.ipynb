{
 "cells": [
  {
   "cell_type": "markdown",
   "metadata": {},
   "source": [
    "<h1 style=\"font-size: 28px;\"> FLOYD WARSHALL ALGORITHM:(22PD07,22PD24) </h1>\n",
    "<p>\n",
    "<h3>Input:</h3>\n",
    "A Weighted Di-graph <br>\n",
    "\n",
    "\n",
    "<h3>Output:</h3>\n",
    "Shortest Path from each node to every other node in a graph and a graph visualising the shortest possible paths .\n",
    "\n",
    "</p>\n",
    "\n",
    "\n",
    "\n"
   ]
  },
  {
   "cell_type": "code",
   "execution_count": 6,
   "metadata": {},
   "outputs": [],
   "source": [
    "import networkx as nx\n",
    "import matplotlib.pyplot as plt\n"
   ]
  },
  {
   "cell_type": "code",
   "execution_count": 7,
   "metadata": {},
   "outputs": [],
   "source": [
    "def floyd_warshall(graph):\n",
    "    n = len(graph)\n",
    "    dist = [[float(\"inf\")] * n for i in range(n)]\n",
    "    for i in range(n):\n",
    "        dist[i][i] = 0\n",
    "        for neighbor, weight in graph[i]:\n",
    "            dist[i][neighbor] = weight\n",
    "\n",
    "    for k in range(n):\n",
    "        for i in range(n):\n",
    "            for j in range(n):\n",
    "                if dist[i][k] + dist[k][j] < dist[i][j]:\n",
    "                    dist[i][j] = dist[i][k] + dist[k][j]\n",
    "\n",
    "    return dist"
   ]
  },
  {
   "cell_type": "code",
   "execution_count": 8,
   "metadata": {},
   "outputs": [],
   "source": [
    "def visualize_graph(graph):\n",
    "    G = nx.DiGraph()\n",
    "    G.add_nodes_from(range(len(graph)))\n",
    "\n",
    "    for i in range(len(graph)):\n",
    "        for neighbor, weight in graph[i]:\n",
    "            G.add_edge(i, neighbor, weight=weight)\n",
    "\n",
    "    pos = nx.spring_layout(G)\n",
    "    nx.draw(G, pos, with_labels=True, node_size=1500, node_color='skyblue', font_size=10)\n",
    "\n",
    "    edge_labels = {(i, j): weight for i in range(len(graph)) for j, weight in graph[i]}\n",
    "    nx.draw_networkx_edge_labels(G, pos, edge_labels=edge_labels, font_size=8)\n",
    "\n",
    "    plt.axis('off')\n",
    "    plt.show()\n"
   ]
  },
  {
   "cell_type": "markdown",
   "metadata": {},
   "source": [
    "\n",
    "<h5> Spring_layout will caculate the node positions using spring layout algorithm.It assigns position to make the viusal appeal of the graph good.<br>In the above fn pos will contain an array like:</h5>\n",
    "\n",
    "![Image 1](imgs/pos_array1.png)\n"
   ]
  },
  {
   "cell_type": "code",
   "execution_count": 9,
   "metadata": {},
   "outputs": [],
   "source": [
    "def input_graph():\n",
    "    graph = {}\n",
    "    n = int(input(\"Enter the number of vertices: \"))\n",
    "    for i in range(n):\n",
    "        edges = []\n",
    "        while True:\n",
    "            neighbor = int(input(f\"Enter the neighbor vertex for vertex {i} (-1 to stop): \"))\n",
    "            if neighbor == -1:\n",
    "                break\n",
    "            weight = int(input(f\"Enter the weight for edge ({i}, {neighbor}): \"))\n",
    "            edges.append((neighbor, weight))\n",
    "        graph[i] = edges\n",
    "    return graph"
   ]
  },
  {
   "cell_type": "markdown",
   "metadata": {},
   "source": [
    "<h5>We output graph as a dictionary.Where each node represents a key and its value contains a list which 2D and contains the node neighbouring to the key and the corresponding key-neighbouring node weight.</h5>"
   ]
  },
  {
   "cell_type": "code",
   "execution_count": null,
   "metadata": {},
   "outputs": [],
   "source": [
    "if __name__ == \"__main__\":\n",
    "    graph = input_graph()\n",
    "    dist = floyd_warshall(graph)\n",
    "\n",
    "    for i in range(len(graph)):\n",
    "        for j in range(len(graph)):\n",
    "            print(f\"Shortest path from {i} to {j} is {dist[i][j]}\")\n",
    "\n",
    "    visualize_graph(graph)"
   ]
  }
 ],
 "metadata": {
  "kernelspec": {
   "display_name": "Python 3",
   "language": "python",
   "name": "python3"
  },
  "language_info": {
   "codemirror_mode": {
    "name": "ipython",
    "version": 3
   },
   "file_extension": ".py",
   "mimetype": "text/x-python",
   "name": "python",
   "nbconvert_exporter": "python",
   "pygments_lexer": "ipython3",
   "version": "3.9.6"
  }
 },
 "nbformat": 4,
 "nbformat_minor": 2
}
